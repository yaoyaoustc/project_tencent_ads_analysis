{
 "cells": [
  {
   "cell_type": "markdown",
   "metadata": {},
   "source": [
    "# In this part we will future explore the dataset"
   ]
  },
  {
   "cell_type": "markdown",
   "metadata": {},
   "source": [
    "## Import libs"
   ]
  },
  {
   "cell_type": "code",
   "execution_count": 4,
   "metadata": {},
   "outputs": [],
   "source": [
    "import pandas as pd"
   ]
  },
  {
   "cell_type": "markdown",
   "metadata": {},
   "source": [
    "## load datasets"
   ]
  },
  {
   "cell_type": "markdown",
   "metadata": {},
   "source": [
    "Load ad exposure log, Load ad_merge and test"
   ]
  },
  {
   "cell_type": "code",
   "execution_count": 5,
   "metadata": {},
   "outputs": [],
   "source": [
    "df_exposure = pd.read_hdf('store_test.h5',key = 'df')"
   ]
  },
  {
   "cell_type": "code",
   "execution_count": 137,
   "metadata": {},
   "outputs": [],
   "source": [
    "df_ad_info = pd.read_hdf('df_ad_merge.h5',key = 'df')"
   ]
  },
  {
   "cell_type": "code",
   "execution_count": 7,
   "metadata": {},
   "outputs": [],
   "source": [
    "df_test = pd.read_hdf('df_testset.h5',key = 'df')"
   ]
  },
  {
   "cell_type": "markdown",
   "metadata": {},
   "source": [
    "## understand the data"
   ]
  },
  {
   "cell_type": "markdown",
   "metadata": {},
   "source": [
    "the target is to get \" the exposure rate for the next day\", I assume the next day means:\"24 hours after the ad is created.\n",
    "\n",
    "When there is any modification of the ads bid/crowd/expo time, the ad should be treated as another ad.\n",
    "\n",
    "if the ad is modified within 24 hours, there is no way to estimate the exposure, we should discard the record.\n",
    "\n",
    "I don't think this is a typical time series prediction problem."
   ]
  },
  {
   "cell_type": "markdown",
   "metadata": {},
   "source": [
    "### cate 1: the ad never changed during the period of dataset"
   ]
  },
  {
   "cell_type": "code",
   "execution_count": 138,
   "metadata": {},
   "outputs": [],
   "source": [
    "def exposure_split_nochange(df_exposure,df_ad_info):\n",
    "    # first clean the df_exposure\n",
    "    # before drop has 6005879 records\n",
    "    expo = df_exposure.drop_duplicates(subset=['AdRequestId','Id'],keep = 'last')\n",
    "    # after drop has 5952533 records\n",
    "    # for these ads, no modification has done, so they can be directly used.\n",
    "    nochg = df_ad_info[df_ad_info['Date'].isnull()]\n",
    "    nochg.rename(columns={'Date_x':'Date_create',\n",
    "                          'Date':'Date_p24h'},inplace=True)\n",
    "    temp_hours = pd.to_datetime(nochg['Date_create'],unit='s') + pd.DateOffset(hours=24)\n",
    "    nochg['Date_p24h'] = temp_hours.values.astype(np.int64) // 10**9\n",
    "    expo_nochg = expo[expo['Id'].isin(set(nochg['Id']))].sort_values(['Id','Time'])\n",
    "    expo_nochg = pd.merge(nochg.loc[:,['Id','Date_p24h']],expo_nochg,how='right',on='Id')\n",
    "    expo_nochg_rate = expo_nochg.loc[expo_nochg['Time'] < expo_nochg['Date_p24h'],:]. \\\n",
    "                    groupby('Id').count().loc[:,'Time'].rename('exporate')\n",
    "    df_merge1 = pd.merge(nochg,expo_nochg_rate,how='outer',on='Id')\n",
    "    #df_id_expo = expo_nochg.groupby(['Id','day']).count().groupby('Id').mean().loc[:,'Time']\n",
    "    # add daily exposure rate to the ad_info table\n",
    "    #df_ad_info_nochg['expo_rate'] = df_id_expo.to_list()\n",
    "    #df_ad_info_nochg[df_ad_info_nochg['Date_x'] == 0]\n",
    "    return expo_nochg,df_merge1,nochg"
   ]
  },
  {
   "cell_type": "code",
   "execution_count": 139,
   "metadata": {},
   "outputs": [
    {
     "name": "stderr",
     "output_type": "stream",
     "text": [
      "/Users/yaoyao/anaconda3/lib/python3.7/site-packages/pandas/core/frame.py:4025: SettingWithCopyWarning: \n",
      "A value is trying to be set on a copy of a slice from a DataFrame\n",
      "\n",
      "See the caveats in the documentation: http://pandas.pydata.org/pandas-docs/stable/indexing.html#indexing-view-versus-copy\n",
      "  return super(DataFrame, self).rename(**kwargs)\n",
      "/Users/yaoyao/anaconda3/lib/python3.7/site-packages/ipykernel_launcher.py:11: SettingWithCopyWarning: \n",
      "A value is trying to be set on a copy of a slice from a DataFrame.\n",
      "Try using .loc[row_indexer,col_indexer] = value instead\n",
      "\n",
      "See the caveats in the documentation: http://pandas.pydata.org/pandas-docs/stable/indexing.html#indexing-view-versus-copy\n",
      "  # This is added back by InteractiveShellApp.init_path()\n"
     ]
    }
   ],
   "source": [
    "expo_nochg,df_merge_nochg,df_ad_info_nochg = exposure_split_nochange(df_exposure,df_ad_info)"
   ]
  },
  {
   "cell_type": "markdown",
   "metadata": {},
   "source": [
    "### ads changed, but has no more changes within 24 hours."
   ]
  },
  {
   "cell_type": "code",
   "execution_count": 246,
   "metadata": {},
   "outputs": [],
   "source": [
    "def exposure_split_change(df_exposure,df_ad_info):\n",
    "    # first clean the df_exposure\n",
    "    # before drop has 6005879 records\n",
    "    expo = df_exposure.drop_duplicates(subset=['AdRequestId','Id'],keep = 'last')\n",
    "    # after drop has 5952533 records\n",
    "    # for these ads, no modification has done, so they can be directly used.\n",
    "    chg = df_ad_info[~df_ad_info['Date'].isnull()]\n",
    "    chg['Date_sft1'] = chg['Date'].shift(-1)\n",
    "    # for each ed id, keep the last edit\n",
    "    chg_last = chg.drop_duplicates(subset='Id',keep='last')\n",
    "    temp_hours = pd.to_datetime(chg_last['Date'],unit='s') + pd.DateOffset(hours=24)\n",
    "    chg_last['Date_sft1'] = temp_hours.values.astype(np.int64) // 10**9\n",
    "    # check if ad has been modified in 24 hours\n",
    "    # for these first record of each id, dateshfi = date_x\n",
    "    # below the date_shift is correct.\n",
    "    temp2 = chg[~chg.index.isin(chg_last.index)]\n",
    "    chg_others = temp2.loc[(temp2['Date_sft1'].astype(int) - temp2['Date'].astype(int)) >= 86400,:]\n",
    "    temp_hours = pd.to_datetime(chg_others['Date'],unit='s') + pd.DateOffset(hours=24)\n",
    "    chg_others['Date_sft1'] = temp_hours.values.astype(np.int64) // 10**9\n",
    "    merge = pd.concat([chg_last,chg_others]).sort_values(['Id','Date'])\n",
    "    # reformat a bit\n",
    "    merge = merge.drop(columns='Date_x').rename(columns={'Date_sft1':'Date_p24h','Date':'Date_create'})\n",
    "    expo_chg = expo[expo['Id'].isin(set(merge['Id']))].sort_values(['Id','Time'])\n",
    "    f = pd.merge(merge,expo_chg,on='Id').rename(columns={'Time_y':'Time'})\n",
    "    ff = f[(f['Time'].astype(int) >= f['Date_create'].astype(int)) & \\\n",
    "           (f['Time'].astype(int) < f['Date_p24h'].astype(int))]\n",
    "    fff = ff.pivot_table(index=['Id','Date_create','Date_p24h'],values='Bid_x',aggfunc=[\"count\"]).reset_index()\n",
    "    fff.columns = fff.columns.get_level_values(0)\n",
    "    df_merge_chg = pd.merge(merge,fff,how='left',on=['Id','Date_create','Date_p24h'])\n",
    "    return expo_chg, df_merge_chg, merge"
   ]
  },
  {
   "cell_type": "code",
   "execution_count": 247,
   "metadata": {},
   "outputs": [
    {
     "name": "stderr",
     "output_type": "stream",
     "text": [
      "/Users/yaoyao/anaconda3/lib/python3.7/site-packages/ipykernel_launcher.py:8: SettingWithCopyWarning: \n",
      "A value is trying to be set on a copy of a slice from a DataFrame.\n",
      "Try using .loc[row_indexer,col_indexer] = value instead\n",
      "\n",
      "See the caveats in the documentation: http://pandas.pydata.org/pandas-docs/stable/indexing.html#indexing-view-versus-copy\n",
      "  \n",
      "/Users/yaoyao/anaconda3/lib/python3.7/site-packages/ipykernel_launcher.py:12: SettingWithCopyWarning: \n",
      "A value is trying to be set on a copy of a slice from a DataFrame.\n",
      "Try using .loc[row_indexer,col_indexer] = value instead\n",
      "\n",
      "See the caveats in the documentation: http://pandas.pydata.org/pandas-docs/stable/indexing.html#indexing-view-versus-copy\n",
      "  if sys.path[0] == '':\n",
      "/Users/yaoyao/anaconda3/lib/python3.7/site-packages/ipykernel_launcher.py:19: SettingWithCopyWarning: \n",
      "A value is trying to be set on a copy of a slice from a DataFrame.\n",
      "Try using .loc[row_indexer,col_indexer] = value instead\n",
      "\n",
      "See the caveats in the documentation: http://pandas.pydata.org/pandas-docs/stable/indexing.html#indexing-view-versus-copy\n"
     ]
    }
   ],
   "source": [
    "expo_chg, df_merge_chg, df_ad_info_chg = exposure_split_change(df_exposure,df_ad_info)"
   ]
  },
  {
   "cell_type": "markdown",
   "metadata": {},
   "source": [
    "## merge to training"
   ]
  },
  {
   "cell_type": "code",
   "execution_count": 251,
   "metadata": {},
   "outputs": [],
   "source": [
    "def merge_training(df_merge_chg,df_merge_nochg):\n",
    "    # merge three datasets\n",
    "    df_merge_chg = df_merge_chg.rename(columns={'count':'exporate'})\n",
    "    merge = pd.concat([df_merge_chg,df_merge_nochg],sort=False)\n",
    "    return merge\n",
    "\n",
    "final_merge = merge_training(df_merge_chg,df_merge_nochg)\n",
    "    "
   ]
  },
  {
   "cell_type": "code",
   "execution_count": 262,
   "metadata": {},
   "outputs": [],
   "source": [
    "final_merge['Date_create'] = final_merge['Date_create'].astype(int)\n",
    "final_merge['CommodityId'] = final_merge['CommodityId'].astype(int)\n",
    "final_merge['AdSize'] = final_merge['AdSize'].astype(int)\n"
   ]
  },
  {
   "cell_type": "code",
   "execution_count": 264,
   "metadata": {},
   "outputs": [],
   "source": [
    "final_merge.to_csv('train_final.csv')"
   ]
  },
  {
   "cell_type": "code",
   "execution_count": null,
   "metadata": {},
   "outputs": [],
   "source": []
  }
 ],
 "metadata": {
  "hide_input": false,
  "kernelspec": {
   "display_name": "Python 3",
   "language": "python",
   "name": "python3"
  },
  "language_info": {
   "codemirror_mode": {
    "name": "ipython",
    "version": 3
   },
   "file_extension": ".py",
   "mimetype": "text/x-python",
   "name": "python",
   "nbconvert_exporter": "python",
   "pygments_lexer": "ipython3",
   "version": "3.7.3"
  },
  "toc": {
   "base_numbering": 1,
   "nav_menu": {},
   "number_sections": true,
   "sideBar": true,
   "skip_h1_title": false,
   "title_cell": "Table of Contents",
   "title_sidebar": "Contents",
   "toc_cell": false,
   "toc_position": {},
   "toc_section_display": true,
   "toc_window_display": false
  },
  "varInspector": {
   "cols": {
    "lenName": 16,
    "lenType": 16,
    "lenVar": 40
   },
   "kernels_config": {
    "python": {
     "delete_cmd_postfix": "",
     "delete_cmd_prefix": "del ",
     "library": "var_list.py",
     "varRefreshCmd": "print(var_dic_list())"
    },
    "r": {
     "delete_cmd_postfix": ") ",
     "delete_cmd_prefix": "rm(",
     "library": "var_list.r",
     "varRefreshCmd": "cat(var_dic_list()) "
    }
   },
   "types_to_exclude": [
    "module",
    "function",
    "builtin_function_or_method",
    "instance",
    "_Feature"
   ],
   "window_display": false
  }
 },
 "nbformat": 4,
 "nbformat_minor": 2
}
